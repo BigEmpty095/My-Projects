{
 "cells": [
  {
   "cell_type": "code",
   "execution_count": 27,
   "id": "19498300",
   "metadata": {},
   "outputs": [
    {
     "name": "stdout",
     "output_type": "stream",
     "text": [
      "Welcome to the Password Generator!\n",
      "How many letters would you like in your password?\n",
      "1\n",
      "How many symbols would you like?\n",
      "1\n",
      "How many numbers would you like?\n",
      "1\n"
     ]
    },
    {
     "data": {
      "text/plain": [
       "'N)1'"
      ]
     },
     "execution_count": 27,
     "metadata": {},
     "output_type": "execute_result"
    }
   ],
   "source": [
    "\n",
    "import random\n",
    "letters = ['a', 'b', 'c', 'd', 'e', 'f', 'g', 'h', 'i', 'j', 'k', 'l', 'm', 'n', 'o', 'p', 'q', 'r', 's', 't', 'u', 'v', 'w', 'x', 'y', 'z', 'A', 'B', 'C', 'D', 'E', 'F', 'G', 'H', 'I', 'J', 'K', 'L', 'M', 'N', 'O', 'P', 'Q', 'R', 'S', 'T', 'U', 'V', 'W', 'X', 'Y', 'Z']\n",
    "numbers = ['0', '1', '2', '3', '4', '5', '6', '7', '8', '9']\n",
    "symbols = ['!', '#', '$', '%', '&', '(', ')', '*', '+']\n",
    "\n",
    "print(\"Welcome to the Password Generator!\")\n",
    "nr_letters= int(input(\"How many letters would you like in your password?\\n\")) \n",
    "nr_symbols = int(input(f\"How many symbols would you like?\\n\"))\n",
    "nr_numbers = int(input(f\"How many numbers would you like?\\n\"))\n",
    "\n",
    "password_list=\"\"\n",
    "\n",
    "for char in range(1, nr_letters + 1):\n",
    "    password_list = password_list + random.choice(letters)\n",
    "\n",
    "for char in range(1, nr_symbols + 1):\n",
    "    password_list = password_list + random.choice(symbols)\n",
    "    \n",
    "for char in range(1, nr_numbers + 1):\n",
    "    password_list = password_list + random.choice(numbers)\n",
    "\n",
    "password_list"
   ]
  },
  {
   "cell_type": "code",
   "execution_count": 37,
   "id": "5ab99285",
   "metadata": {},
   "outputs": [
    {
     "name": "stdout",
     "output_type": "stream",
     "text": [
      "QDkxqMCpM2XZBiAXnh8hFCXCHniSQy\n"
     ]
    }
   ],
   "source": [
    "##This is better\n",
    "import random\n",
    "import string\n",
    "\n",
    "print(''.join(random.choices(string.ascii_uppercase + string.ascii_lowercase + string.digits, k=30)))"
   ]
  },
  {
   "cell_type": "code",
   "execution_count": null,
   "id": "34e22735",
   "metadata": {},
   "outputs": [],
   "source": []
  }
 ],
 "metadata": {
  "kernelspec": {
   "display_name": "Python 3 (ipykernel)",
   "language": "python",
   "name": "python3"
  },
  "language_info": {
   "codemirror_mode": {
    "name": "ipython",
    "version": 3
   },
   "file_extension": ".py",
   "mimetype": "text/x-python",
   "name": "python",
   "nbconvert_exporter": "python",
   "pygments_lexer": "ipython3",
   "version": "3.9.12"
  }
 },
 "nbformat": 4,
 "nbformat_minor": 5
}
