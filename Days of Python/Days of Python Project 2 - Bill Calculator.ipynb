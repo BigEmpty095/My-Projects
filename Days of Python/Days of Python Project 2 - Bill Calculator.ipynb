{
 "cells": [
  {
   "cell_type": "code",
   "execution_count": 1,
   "id": "3522c681",
   "metadata": {},
   "outputs": [
    {
     "name": "stdout",
     "output_type": "stream",
     "text": [
      "Bill Amount: 1580\n",
      "Percent Tip?: 15\n",
      "Split how many ways?:10\n"
     ]
    },
    {
     "data": {
      "text/plain": [
       "181.7"
      ]
     },
     "execution_count": 1,
     "metadata": {},
     "output_type": "execute_result"
    }
   ],
   "source": [
    "Bill = float(input(\"Bill Amount: \"))\n",
    "Tip = float(input(\"Percent Tip?: \"))\n",
    "Tip = Bill * Tip/100\n",
    "Total = Bill + Tip\n",
    "Total\n",
    "Split = float(input(\"Split how many ways?:\"))\n",
    "Owed = Total/Split\n",
    "Owed"
   ]
  }
 ],
 "metadata": {
  "kernelspec": {
   "display_name": "Python 3 (ipykernel)",
   "language": "python",
   "name": "python3"
  },
  "language_info": {
   "codemirror_mode": {
    "name": "ipython",
    "version": 3
   },
   "file_extension": ".py",
   "mimetype": "text/x-python",
   "name": "python",
   "nbconvert_exporter": "python",
   "pygments_lexer": "ipython3",
   "version": "3.9.12"
  }
 },
 "nbformat": 4,
 "nbformat_minor": 5
}
