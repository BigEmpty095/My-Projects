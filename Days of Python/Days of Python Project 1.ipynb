{
 "cells": [
  {
   "cell_type": "code",
   "execution_count": 15,
   "id": "62cfb7e1",
   "metadata": {},
   "outputs": [
    {
     "name": "stdout",
     "output_type": "stream",
     "text": [
      "Welcome to the band name generator!\n",
      "What city did you grow up in?: Los Angeles\n"
     ]
    }
   ],
   "source": [
    "print(\"Welcome to the band name generator!\")\n",
    "hometown = input(\"What city did you grow up in?: \")"
   ]
  },
  {
   "cell_type": "code",
   "execution_count": 16,
   "id": "4a75c3c2",
   "metadata": {},
   "outputs": [
    {
     "name": "stdout",
     "output_type": "stream",
     "text": [
      "What is a name you once gave to a pet?:Odysseus\n"
     ]
    }
   ],
   "source": [
    "petname = input(\"What is a name you once gave to a pet?:\")"
   ]
  },
  {
   "cell_type": "code",
   "execution_count": 17,
   "id": "0e1ad131",
   "metadata": {},
   "outputs": [
    {
     "name": "stdout",
     "output_type": "stream",
     "text": [
      "A good band name would be: Los Angeles Odysseus\n"
     ]
    }
   ],
   "source": [
    "print(\"A good band name would be: \" + hometown + \" \"+ petname)"
   ]
  },
  {
   "cell_type": "code",
   "execution_count": null,
   "id": "60978d36",
   "metadata": {},
   "outputs": [],
   "source": []
  }
 ],
 "metadata": {
  "kernelspec": {
   "display_name": "Python 3 (ipykernel)",
   "language": "python",
   "name": "python3"
  },
  "language_info": {
   "codemirror_mode": {
    "name": "ipython",
    "version": 3
   },
   "file_extension": ".py",
   "mimetype": "text/x-python",
   "name": "python",
   "nbconvert_exporter": "python",
   "pygments_lexer": "ipython3",
   "version": "3.9.12"
  }
 },
 "nbformat": 4,
 "nbformat_minor": 5
}
