{
 "cells": [
  {
   "cell_type": "code",
   "execution_count": 36,
   "id": "3279efa2",
   "metadata": {},
   "outputs": [
    {
     "name": "stdout",
     "output_type": "stream",
     "text": [
      "What do you choose? 0 for Rock, 1 for Paper, 2 for Scissors.\n",
      "6\n",
      "Invalid number. Please try again.\n"
     ]
    }
   ],
   "source": [
    "from random import randint\n",
    "\n",
    "rock = '''\n",
    "    _______\n",
    "---'   ____)\n",
    "      (_____)\n",
    "      (_____)\n",
    "      (____)\n",
    "---.__(___)\n",
    "'''\n",
    "\n",
    "paper = '''\n",
    "    _______\n",
    "---'   ____)____\n",
    "          ______)\n",
    "          _______)\n",
    "         _______)\n",
    "---.__________)\n",
    "'''\n",
    "\n",
    "scissors = '''\n",
    "    _______\n",
    "---'   ____)____\n",
    "          ______)\n",
    "       __________)\n",
    "      (____)\n",
    "---.__(___)\n",
    "'''\n",
    "\n",
    "game_images = [rock, paper, scissors]\n",
    "player_choice = int(input(\"What do you choose? 0 for Rock, 1 for Paper, 2 for Scissors.\\n\"))\n",
    "\n",
    "##player choice error out anything other than 0-2\n",
    "if player_choice >= 3 or player_choice < 0:\n",
    "    print(\"Invalid number. Please try again.\")\n",
    "else:\n",
    "    print(game_images[player_choice])\n",
    "\n",
    "    game_choice = randint(0,2)\n",
    "    print(game_images[game_choice])\n",
    "\n",
    "    ##game logic\n",
    "    if player_choice == 0 and game_choice ==2:\n",
    "        print(\"You win!\")\n",
    "    elif game_choice ==0 and player_choice == 2:\n",
    "        print(\"You lose. Thanks for playing!\")\n",
    "    elif game_choice < player_choice:\n",
    "        print(\"You win!\")\n",
    "    elif game_choice > player_choice:\n",
    "        print(\"You lose. Thanks for playing!\")\n",
    "    elif game_choice == player_choice:\n",
    "        print(\"A draw! Please play again.\")\n"
   ]
  },
  {
   "cell_type": "code",
   "execution_count": null,
   "id": "744b50cf",
   "metadata": {},
   "outputs": [],
   "source": []
  },
  {
   "cell_type": "code",
   "execution_count": null,
   "id": "cdddce56",
   "metadata": {},
   "outputs": [],
   "source": [
    "2\n"
   ]
  }
 ],
 "metadata": {
  "kernelspec": {
   "display_name": "Python 3 (ipykernel)",
   "language": "python",
   "name": "python3"
  },
  "language_info": {
   "codemirror_mode": {
    "name": "ipython",
    "version": 3
   },
   "file_extension": ".py",
   "mimetype": "text/x-python",
   "name": "python",
   "nbconvert_exporter": "python",
   "pygments_lexer": "ipython3",
   "version": "3.9.12"
  }
 },
 "nbformat": 4,
 "nbformat_minor": 5
}
