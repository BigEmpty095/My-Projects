{
 "cells": [
  {
   "cell_type": "code",
   "execution_count": 20,
   "id": "3522c681",
   "metadata": {},
   "outputs": [
    {
     "name": "stdout",
     "output_type": "stream",
     "text": [
      "Bill Amount: 150\n"
     ]
    }
   ],
   "source": [
    "Bill = float(input(\"Bill Amount: \"))"
   ]
  },
  {
   "cell_type": "code",
   "execution_count": 21,
   "id": "6b75713d",
   "metadata": {},
   "outputs": [
    {
     "name": "stdout",
     "output_type": "stream",
     "text": [
      "Percent Tip?: 15\n"
     ]
    },
    {
     "data": {
      "text/plain": [
       "172.5"
      ]
     },
     "execution_count": 21,
     "metadata": {},
     "output_type": "execute_result"
    }
   ],
   "source": [
    "Tip = float(input(\"Percent Tip?: \"))\n",
    "Tip = Bill * Tip/100\n",
    "Total = Bill + Tip\n",
    "Total"
   ]
  },
  {
   "cell_type": "code",
   "execution_count": 22,
   "id": "406119f7",
   "metadata": {},
   "outputs": [
    {
     "name": "stdout",
     "output_type": "stream",
     "text": [
      "Split how many ways?:5\n"
     ]
    },
    {
     "data": {
      "text/plain": [
       "34.5"
      ]
     },
     "execution_count": 22,
     "metadata": {},
     "output_type": "execute_result"
    }
   ],
   "source": [
    "Split = float(input(\"Split how many ways?:\"))\n",
    "Owed = Total/Split\n",
    "Owed"
   ]
  },
  {
   "cell_type": "code",
   "execution_count": null,
   "id": "47386da2",
   "metadata": {},
   "outputs": [],
   "source": []
  }
 ],
 "metadata": {
  "kernelspec": {
   "display_name": "Python 3 (ipykernel)",
   "language": "python",
   "name": "python3"
  },
  "language_info": {
   "codemirror_mode": {
    "name": "ipython",
    "version": 3
   },
   "file_extension": ".py",
   "mimetype": "text/x-python",
   "name": "python",
   "nbconvert_exporter": "python",
   "pygments_lexer": "ipython3",
   "version": "3.9.12"
  }
 },
 "nbformat": 4,
 "nbformat_minor": 5
}
