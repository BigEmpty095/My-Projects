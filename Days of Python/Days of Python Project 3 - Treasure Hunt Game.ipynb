{
 "cells": [
  {
   "cell_type": "code",
   "execution_count": 38,
   "id": "9502c57a",
   "metadata": {},
   "outputs": [
    {
     "name": "stdout",
     "output_type": "stream",
     "text": [
      "\n",
      "*******************************************************************************\n",
      "          |                   |                  |                     |\n",
      " _________|________________.=\"\"_;=.______________|_____________________|_______\n",
      "|                   |  ,-\"_,=\"\"     `\"=.|                  |\n",
      "|___________________|__\"=._o`\"-._        `\"=.______________|___________________\n",
      "          |                `\"=._o`\"=._      _`\"=._                     |\n",
      " _________|_____________________:=._o \"=._.\"_.-=\"'\"=.__________________|_______\n",
      "|                   |    __.--\" , ; `\"=._o.\" ,-\"\"\"-._ \".   |\n",
      "|___________________|_._\"  ,. .` ` `` ,  `\"-._\"-._   \". '__|___________________\n",
      "          |           |o`\"=._` , \"` `; .\". ,  \"-._\"-._; ;              |\n",
      " _________|___________| ;`-.o`\"=._; .\" ` '`.\"\\` . \"-._ /_______________|_______\n",
      "|                   | |o;    `\"-.o`\"=._``  '` \" ,__.--o;   |\n",
      "|___________________|_| ;     (#) `-.o `\"=.`_.--\"_o.-; ;___|___________________\n",
      "____/______/______/___|o;._    \"      `\".o|o_.--\"    ;o;____/______/______/____\n",
      "/______/______/______/_\"=._o--._        ; | ;        ; ;/______/______/______/_\n",
      "____/______/______/______/__\"=._o--._   ;o|o;     _._;o;____/______/______/____\n",
      "/______/______/______/______/____\"=._o._; | ;_.--\"o.--\"_/______/______/______/_\n",
      "____/______/______/______/______/_____\"=.o|o_.--\"\"___/______/______/______/____\n",
      "/______/______/______/______/______/______/______/______/______/______/_____ /\n",
      "*******************************************************************************\n",
      "\n",
      "Welcome to Treasure Hunt.\n",
      "Your goal is to find the treasure!\n",
      "After traveling north for a while you arrive at a fork in the road. Which direction will you go? Type \"east\" or \"west\".\n",
      "west\n",
      "You travel along the road until you come across a wide flowing river. It looks like there is a ferry that will pick you up, but you will have to wait. What do you do? Type \"wait\" to wait for the ferry, or \"swim\" to swim across.\n",
      "swim\n",
      "You make it across the river unharmed. After continuing on, you find three plots of dirt that have been freshly filled in. Which do you choose, the left, the right, or the middle?\n",
      "middle\n",
      "You find a chest at the bottom of the plot. The treasure! Just kidding... as you open the chest a spring-loaded posion dart lodges itself in your neck. You are dead before you hit the ground. Thanks for playing!\n"
     ]
    }
   ],
   "source": [
    "print('''\n",
    "*******************************************************************************\n",
    "          |                   |                  |                     |\n",
    " _________|________________.=\"\"_;=.______________|_____________________|_______\n",
    "|                   |  ,-\"_,=\"\"     `\"=.|                  |\n",
    "|___________________|__\"=._o`\"-._        `\"=.______________|___________________\n",
    "          |                `\"=._o`\"=._      _`\"=._                     |\n",
    " _________|_____________________:=._o \"=._.\"_.-=\"'\"=.__________________|_______\n",
    "|                   |    __.--\" , ; `\"=._o.\" ,-\"\"\"-._ \".   |\n",
    "|___________________|_._\"  ,. .` ` `` ,  `\"-._\"-._   \". '__|___________________\n",
    "          |           |o`\"=._` , \"` `; .\". ,  \"-._\"-._; ;              |\n",
    " _________|___________| ;`-.o`\"=._; .\" ` '`.\"\\` . \"-._ /_______________|_______\n",
    "|                   | |o;    `\"-.o`\"=._``  '` \" ,__.--o;   |\n",
    "|___________________|_| ;     (#) `-.o `\"=.`_.--\"_o.-; ;___|___________________\n",
    "____/______/______/___|o;._    \"      `\".o|o_.--\"    ;o;____/______/______/____\n",
    "/______/______/______/_\"=._o--._        ; | ;        ; ;/______/______/______/_\n",
    "____/______/______/______/__\"=._o--._   ;o|o;     _._;o;____/______/______/____\n",
    "/______/______/______/______/____\"=._o._; | ;_.--\"o.--\"_/______/______/______/_\n",
    "____/______/______/______/______/_____\"=.o|o_.--\"\"___/______/______/______/____\n",
    "/______/______/______/______/______/______/______/______/______/______/_____ /\n",
    "*******************************************************************************\n",
    "''')\n",
    "print(\"Welcome to Treasure Hunt.\")\n",
    "print(\"Your goal is to find the treasure!\") \n",
    "choice1 = input('After traveling north for a while you arrive at a fork in the road. Which direction will you go? Type \"east\" or \"west\".\\n').lower()\n",
    "\n",
    "if choice1 == \"west\":\n",
    "    choice2 = input('You travel along the road until you come across a wide flowing river. It looks like there is a ferry that will pick you up, but you will have to wait. What do you do? Type \"wait\" to wait for the ferry, or \"swim\" to swim across.\\n').lower()\n",
    "    if choice2 == ('swim'):\n",
    "        choice3 = input('You make it across the river unharmed. After continuing on, you find three plots of dirt that have been freshly filled in. Which do you choose, the left, the right, or the middle?\\n').lower()\n",
    "        if choice3 == \"right\":\n",
    "                print(\"The plot was trapped with a mine! You are blown to pieces before the sound of the explosion registers in your mind. Thanks for playing!\")\n",
    "        elif choice3 == \"left\":\n",
    "                print(\"You find a chest at the bottom of the plot. Inside you find the treasure! Thanks for playing!\")\n",
    "        elif choice3 == \"middle\":\n",
    "                print(\"You find a chest at the bottom of the plot. The treasure! Just kidding... as you open the chest a spring-loaded posion dart lodges itself in your neck. You are dead before you hit the ground. Thanks for playing!\")\n",
    "        else:\n",
    "            print(\"That doesn't make sense. You lose!\")\n",
    "    else:\n",
    "        print(\"You wait for what seems like an eternity. As the sun sets, your eyelids close under the weight of your exhaustion. Unfrotunately for you, that sunset was the last thing you saw. A bandit kills you in your sleep to look for the treasure themselves. Thanks for playing!\")\n",
    "else:\n",
    "    print(\"You have fallen into a pit trap to your untimely demise. Thanks for playing!\")"
   ]
  },
  {
   "cell_type": "code",
   "execution_count": null,
   "id": "fbdee772",
   "metadata": {},
   "outputs": [],
   "source": []
  },
  {
   "cell_type": "code",
   "execution_count": null,
   "id": "f0441b2b",
   "metadata": {},
   "outputs": [],
   "source": []
  }
 ],
 "metadata": {
  "kernelspec": {
   "display_name": "Python 3 (ipykernel)",
   "language": "python",
   "name": "python3"
  },
  "language_info": {
   "codemirror_mode": {
    "name": "ipython",
    "version": 3
   },
   "file_extension": ".py",
   "mimetype": "text/x-python",
   "name": "python",
   "nbconvert_exporter": "python",
   "pygments_lexer": "ipython3",
   "version": "3.9.12"
  }
 },
 "nbformat": 4,
 "nbformat_minor": 5
}
